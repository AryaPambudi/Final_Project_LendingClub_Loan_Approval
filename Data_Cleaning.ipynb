{
 "metadata": {
  "language_info": {
   "codemirror_mode": {
    "name": "ipython",
    "version": 3
   },
   "file_extension": ".py",
   "mimetype": "text/x-python",
   "name": "python",
   "nbconvert_exporter": "python",
   "pygments_lexer": "ipython3",
   "version": "3.7.7-final"
  },
  "orig_nbformat": 2,
  "kernelspec": {
   "name": "Python 3.7.7 64-bit ('base': conda)",
   "display_name": "Python 3.7.7 64-bit ('base': conda)",
   "metadata": {
    "interpreter": {
     "hash": "c5e48f84046969b800ff52f6d80523bcd1ca3fb1a99f1449e4197bf6c73dc096"
    }
   }
  }
 },
 "nbformat": 4,
 "nbformat_minor": 2,
 "cells": [
  {
   "source": [
    "# LendingClub Loan Approval"
   ],
   "cell_type": "markdown",
   "metadata": {}
  },
  {
   "source": [
    "## Data Cleaning"
   ],
   "cell_type": "markdown",
   "metadata": {}
  },
  {
   "source": [
    "### Arya Pambudi Bayuaji\n",
    "\n",
    "**Dataset:** LendingClub Loan Dataset | **Source:** [Kaggle](https://www.kaggle.com/prashdash112/lending-club-loan-two-new-version)"
   ],
   "cell_type": "markdown",
   "metadata": {}
  },
  {
   "source": [
    "Data berasal dari perusahaan LendingClub \n",
    "\n",
    "Lending Club adalah perusahaan pinjaman peer-to-peer yang mencocokkan peminjam dengan investor melalui platform online. Perusahaan ini melayani orang-orang yang membutuhkan pinjaman pribadi antara 1.000 hingga 40.000. Peminjam menerima jumlah penuh dari pinjaman yang diterbitkan dikurangi biaya administrasi yang dibayarkan kepada perusahaan (platform penyedia). Investor mendapatkan keuntungan dari bunga serta diwajibkan membayar Lending Club dengan biaya layanan. Perusahaan membagikan data tentang semua pinjaman yang dikeluarkan melalui platformnya selama periode waktu tertentu.\n",
    "\n",
    "Misi utama dari Project ini adalah untuk membuat Machine Learning dengan rasio peminjam dapat membayar penuh pinjamannya sebesar 85% yang secara tidak langsung mengurangi resiko credit macet sebelum diterima di LendingClub yang berbasis aplikasi untuk menentukan permintaan pinjaman berdasarkan data historis. "
   ],
   "cell_type": "markdown",
   "metadata": {}
  },
  {
   "cell_type": "code",
   "execution_count": 1,
   "metadata": {},
   "outputs": [],
   "source": [
    "import numpy as np\n",
    "import pandas as pd\n",
    "import matplotlib.pyplot as plt\n",
    "import seaborn as sns\n",
    "\n",
    "%matplotlib inline"
   ]
  },
  {
   "source": [
    "### Import Data & Library"
   ],
   "cell_type": "markdown",
   "metadata": {}
  },
  {
   "cell_type": "code",
   "execution_count": 2,
   "metadata": {},
   "outputs": [],
   "source": [
    "pd.set_option('display.max_columns', None)"
   ]
  },
  {
   "cell_type": "code",
   "execution_count": 3,
   "metadata": {},
   "outputs": [
    {
     "output_type": "execute_result",
     "data": {
      "text/plain": [
       "   loan_amnt        term  int_rate  installment grade sub_grade  \\\n",
       "0    10000.0   36 months     11.44       329.48     B        B4   \n",
       "1     8000.0   36 months     11.99       265.68     B        B5   \n",
       "2    15600.0   36 months     10.49       506.97     B        B3   \n",
       "3     7200.0   36 months      6.49       220.65     A        A2   \n",
       "4    24375.0   60 months     17.27       609.33     C        C5   \n",
       "\n",
       "                 emp_title emp_length home_ownership  annual_inc  \\\n",
       "0                Marketing  10+ years           RENT    117000.0   \n",
       "1          Credit analyst     4 years       MORTGAGE     65000.0   \n",
       "2             Statistician   < 1 year           RENT     43057.0   \n",
       "3          Client Advocate    6 years           RENT     54000.0   \n",
       "4  Destiny Management Inc.    9 years       MORTGAGE     55000.0   \n",
       "\n",
       "  verification_status   issue_d  loan_status             purpose  \\\n",
       "0        Not Verified  Jan-2015   Fully Paid            vacation   \n",
       "1        Not Verified  Jan-2015   Fully Paid  debt_consolidation   \n",
       "2     Source Verified  Jan-2015   Fully Paid         credit_card   \n",
       "3        Not Verified  Nov-2014   Fully Paid         credit_card   \n",
       "4            Verified  Apr-2013  Charged Off         credit_card   \n",
       "\n",
       "                     title    dti earliest_cr_line  open_acc  pub_rec  \\\n",
       "0                 Vacation  26.24         Jun-1990      16.0      0.0   \n",
       "1       Debt consolidation  22.05         Jul-2004      17.0      0.0   \n",
       "2  Credit card refinancing  12.79         Aug-2007      13.0      0.0   \n",
       "3  Credit card refinancing   2.60         Sep-2006       6.0      0.0   \n",
       "4    Credit Card Refinance  33.95         Mar-1999      13.0      0.0   \n",
       "\n",
       "   revol_bal  revol_util  total_acc initial_list_status application_type  \\\n",
       "0    36369.0        41.8       25.0                   w       INDIVIDUAL   \n",
       "1    20131.0        53.3       27.0                   f       INDIVIDUAL   \n",
       "2    11987.0        92.2       26.0                   f       INDIVIDUAL   \n",
       "3     5472.0        21.5       13.0                   f       INDIVIDUAL   \n",
       "4    24584.0        69.8       43.0                   f       INDIVIDUAL   \n",
       "\n",
       "   mort_acc  pub_rec_bankruptcies  \\\n",
       "0       0.0                   0.0   \n",
       "1       3.0                   0.0   \n",
       "2       0.0                   0.0   \n",
       "3       0.0                   0.0   \n",
       "4       1.0                   0.0   \n",
       "\n",
       "                                             address  \n",
       "0     0174 Michelle Gateway\\r\\nMendozaberg, OK 22690  \n",
       "1  1076 Carney Fort Apt. 347\\r\\nLoganmouth, SD 05113  \n",
       "2  87025 Mark Dale Apt. 269\\r\\nNew Sabrina, WV 05113  \n",
       "3            823 Reid Ford\\r\\nDelacruzside, MA 00813  \n",
       "4             679 Luna Roads\\r\\nGreggshire, VA 11650  "
      ],
      "text/html": "<div>\n<style scoped>\n    .dataframe tbody tr th:only-of-type {\n        vertical-align: middle;\n    }\n\n    .dataframe tbody tr th {\n        vertical-align: top;\n    }\n\n    .dataframe thead th {\n        text-align: right;\n    }\n</style>\n<table border=\"1\" class=\"dataframe\">\n  <thead>\n    <tr style=\"text-align: right;\">\n      <th></th>\n      <th>loan_amnt</th>\n      <th>term</th>\n      <th>int_rate</th>\n      <th>installment</th>\n      <th>grade</th>\n      <th>sub_grade</th>\n      <th>emp_title</th>\n      <th>emp_length</th>\n      <th>home_ownership</th>\n      <th>annual_inc</th>\n      <th>verification_status</th>\n      <th>issue_d</th>\n      <th>loan_status</th>\n      <th>purpose</th>\n      <th>title</th>\n      <th>dti</th>\n      <th>earliest_cr_line</th>\n      <th>open_acc</th>\n      <th>pub_rec</th>\n      <th>revol_bal</th>\n      <th>revol_util</th>\n      <th>total_acc</th>\n      <th>initial_list_status</th>\n      <th>application_type</th>\n      <th>mort_acc</th>\n      <th>pub_rec_bankruptcies</th>\n      <th>address</th>\n    </tr>\n  </thead>\n  <tbody>\n    <tr>\n      <th>0</th>\n      <td>10000.0</td>\n      <td>36 months</td>\n      <td>11.44</td>\n      <td>329.48</td>\n      <td>B</td>\n      <td>B4</td>\n      <td>Marketing</td>\n      <td>10+ years</td>\n      <td>RENT</td>\n      <td>117000.0</td>\n      <td>Not Verified</td>\n      <td>Jan-2015</td>\n      <td>Fully Paid</td>\n      <td>vacation</td>\n      <td>Vacation</td>\n      <td>26.24</td>\n      <td>Jun-1990</td>\n      <td>16.0</td>\n      <td>0.0</td>\n      <td>36369.0</td>\n      <td>41.8</td>\n      <td>25.0</td>\n      <td>w</td>\n      <td>INDIVIDUAL</td>\n      <td>0.0</td>\n      <td>0.0</td>\n      <td>0174 Michelle Gateway\\r\\nMendozaberg, OK 22690</td>\n    </tr>\n    <tr>\n      <th>1</th>\n      <td>8000.0</td>\n      <td>36 months</td>\n      <td>11.99</td>\n      <td>265.68</td>\n      <td>B</td>\n      <td>B5</td>\n      <td>Credit analyst</td>\n      <td>4 years</td>\n      <td>MORTGAGE</td>\n      <td>65000.0</td>\n      <td>Not Verified</td>\n      <td>Jan-2015</td>\n      <td>Fully Paid</td>\n      <td>debt_consolidation</td>\n      <td>Debt consolidation</td>\n      <td>22.05</td>\n      <td>Jul-2004</td>\n      <td>17.0</td>\n      <td>0.0</td>\n      <td>20131.0</td>\n      <td>53.3</td>\n      <td>27.0</td>\n      <td>f</td>\n      <td>INDIVIDUAL</td>\n      <td>3.0</td>\n      <td>0.0</td>\n      <td>1076 Carney Fort Apt. 347\\r\\nLoganmouth, SD 05113</td>\n    </tr>\n    <tr>\n      <th>2</th>\n      <td>15600.0</td>\n      <td>36 months</td>\n      <td>10.49</td>\n      <td>506.97</td>\n      <td>B</td>\n      <td>B3</td>\n      <td>Statistician</td>\n      <td>&lt; 1 year</td>\n      <td>RENT</td>\n      <td>43057.0</td>\n      <td>Source Verified</td>\n      <td>Jan-2015</td>\n      <td>Fully Paid</td>\n      <td>credit_card</td>\n      <td>Credit card refinancing</td>\n      <td>12.79</td>\n      <td>Aug-2007</td>\n      <td>13.0</td>\n      <td>0.0</td>\n      <td>11987.0</td>\n      <td>92.2</td>\n      <td>26.0</td>\n      <td>f</td>\n      <td>INDIVIDUAL</td>\n      <td>0.0</td>\n      <td>0.0</td>\n      <td>87025 Mark Dale Apt. 269\\r\\nNew Sabrina, WV 05113</td>\n    </tr>\n    <tr>\n      <th>3</th>\n      <td>7200.0</td>\n      <td>36 months</td>\n      <td>6.49</td>\n      <td>220.65</td>\n      <td>A</td>\n      <td>A2</td>\n      <td>Client Advocate</td>\n      <td>6 years</td>\n      <td>RENT</td>\n      <td>54000.0</td>\n      <td>Not Verified</td>\n      <td>Nov-2014</td>\n      <td>Fully Paid</td>\n      <td>credit_card</td>\n      <td>Credit card refinancing</td>\n      <td>2.60</td>\n      <td>Sep-2006</td>\n      <td>6.0</td>\n      <td>0.0</td>\n      <td>5472.0</td>\n      <td>21.5</td>\n      <td>13.0</td>\n      <td>f</td>\n      <td>INDIVIDUAL</td>\n      <td>0.0</td>\n      <td>0.0</td>\n      <td>823 Reid Ford\\r\\nDelacruzside, MA 00813</td>\n    </tr>\n    <tr>\n      <th>4</th>\n      <td>24375.0</td>\n      <td>60 months</td>\n      <td>17.27</td>\n      <td>609.33</td>\n      <td>C</td>\n      <td>C5</td>\n      <td>Destiny Management Inc.</td>\n      <td>9 years</td>\n      <td>MORTGAGE</td>\n      <td>55000.0</td>\n      <td>Verified</td>\n      <td>Apr-2013</td>\n      <td>Charged Off</td>\n      <td>credit_card</td>\n      <td>Credit Card Refinance</td>\n      <td>33.95</td>\n      <td>Mar-1999</td>\n      <td>13.0</td>\n      <td>0.0</td>\n      <td>24584.0</td>\n      <td>69.8</td>\n      <td>43.0</td>\n      <td>f</td>\n      <td>INDIVIDUAL</td>\n      <td>1.0</td>\n      <td>0.0</td>\n      <td>679 Luna Roads\\r\\nGreggshire, VA 11650</td>\n    </tr>\n  </tbody>\n</table>\n</div>"
     },
     "metadata": {},
     "execution_count": 3
    }
   ],
   "source": [
    "LCL = pd.read_csv('D:\\Belajar\\Purwadhika\\Final Project\\lending_club_loan_two.csv')\n",
    "LCL.head()"
   ]
  },
  {
   "cell_type": "code",
   "execution_count": 4,
   "metadata": {},
   "outputs": [
    {
     "output_type": "execute_result",
     "data": {
      "text/plain": [
       "396030"
      ]
     },
     "metadata": {},
     "execution_count": 4
    }
   ],
   "source": [
    "len(LCL)"
   ]
  },
  {
   "source": [
    "Dari data yang didapat, saya memiliki 396030 baris data historis dari LendingClub"
   ],
   "cell_type": "markdown",
   "metadata": {}
  },
  {
   "source": [
    "**Columns**\n",
    "\n",
    "1. loan_amnt              : Pinjaman yang diajukan oleh peminjam \n",
    "2. term                   : Tenor atau jangka waktu pinjaman (dalam bulan) \n",
    "3. int_rate               : Suku bunga pinjaman \n",
    "4. installment            : Pembayaran bulanan dari pinjaman \n",
    "5. grade                  : Kelas atau tingkatan yang dilihat dari resiko yang ditetapkan oleh perusahaan/platform penyedia (https://www.lendingclub.com/foliofn/rateDetail.action) \n",
    "6. sub_grade              : bagian dari tiap kelas \n",
    "7. emp_title              : Pekerjaan peminjam \n",
    "8. emp_length             : Lama peminjam bekerja \n",
    "9. home_ownership         : Kepemilikan rumah peminjam \n",
    "10. annual_inc            : Pendapatan peminjam per tahun \n",
    "11. verification_status   : Verifikasi apakah pendapatan peminjam sudah terverifikasi\n",
    "12. issue_d               : Bulan dimana pinjaman tersebut didanai \n",
    "13. loan_status           : Status pinjaman saat ini: 0 = , 1 = Fully Paid \n",
    "14. purpose               : Kategori yang disediakan kepada peminjam untuk permintaan pinjaman \n",
    "15. title                 : Judul pinjaman yang diberikan oleh peminjam \n",
    "16. dti                   : Rasio dihitung dengan menggunakan jumlah pembayaran utang bulanan peminjam pada kewajiban utang total, tidak termasuk hipotek dan pinjaman LC yang diminta, dibagi dengan pendapatan bulanan yang dilaporkan sendiri peminjam. \n",
    "17. earliest_cr_line      : Bulan di mana peminjam membuat peminjaman pertamanya \n",
    "18. open_acc              : Jumlah jalur kredit terbuka dalam file kredit peminjam (jumlah peminjaman yang masih aktif) \n",
    "19. pub_rec               : Jumlah catatan publik yang merendahkan \n",
    "20. revol_bal             : Total saldo bergulir kredit (Tanggungan hutang total saat ini) \n",
    "21. revol_util            : Jumlah kredit yang digunakan peminjam relatif terhadap semua kredit bergulir yang tersedia.\n",
    "22. total_acc             : Jumlah total jalur kredit yang saat ini ada dalam arsip kredit peminjam \n",
    "23. initial_list_status   : whole vs. fractional (keseluruhan vs. pecahan) tipe investasi apakah berbentuk keseluruhan (hanya satu investor) atau pecahan (lebih dari satu investor) \n",
    "24. application_type      : Menunjukkan apakah pinjaman adalah aplikasi individu atau aplikasi bersama dengan dua peminjam bersama \n",
    "25. mort_acc              : Jumlah akun mortgage \n",
    "26. pub_rec_bankruptcies  : Jumlah catatan publik kebangkrutan \n",
    "27. address               : alamat peminjam "
   ],
   "cell_type": "markdown",
   "metadata": {}
  },
  {
   "source": [
    "## Feature Analysis"
   ],
   "cell_type": "markdown",
   "metadata": {}
  },
  {
   "source": [
    "Langkah pertama dari Final Project ini adalah mengidentifikasi dataset dan fiturnya. Pada langkah ini kita akan menganalisis tipe dan kondisi dari semua fitur dari Dataset Leanding Club Loan."
   ],
   "cell_type": "markdown",
   "metadata": {}
  },
  {
   "cell_type": "code",
   "execution_count": 5,
   "metadata": {
    "tags": []
   },
   "outputs": [
    {
     "output_type": "stream",
     "name": "stdout",
     "text": [
      "<class 'pandas.core.frame.DataFrame'>\nRangeIndex: 396030 entries, 0 to 396029\nData columns (total 27 columns):\n #   Column                Non-Null Count   Dtype  \n---  ------                --------------   -----  \n 0   loan_amnt             396030 non-null  float64\n 1   term                  396030 non-null  object \n 2   int_rate              396030 non-null  float64\n 3   installment           396030 non-null  float64\n 4   grade                 396030 non-null  object \n 5   sub_grade             396030 non-null  object \n 6   emp_title             373103 non-null  object \n 7   emp_length            377729 non-null  object \n 8   home_ownership        396030 non-null  object \n 9   annual_inc            396030 non-null  float64\n 10  verification_status   396030 non-null  object \n 11  issue_d               396030 non-null  object \n 12  loan_status           396030 non-null  object \n 13  purpose               396030 non-null  object \n 14  title                 394275 non-null  object \n 15  dti                   396030 non-null  float64\n 16  earliest_cr_line      396030 non-null  object \n 17  open_acc              396030 non-null  float64\n 18  pub_rec               396030 non-null  float64\n 19  revol_bal             396030 non-null  float64\n 20  revol_util            395754 non-null  float64\n 21  total_acc             396030 non-null  float64\n 22  initial_list_status   396030 non-null  object \n 23  application_type      396030 non-null  object \n 24  mort_acc              358235 non-null  float64\n 25  pub_rec_bankruptcies  395495 non-null  float64\n 26  address               396030 non-null  object \ndtypes: float64(12), object(15)\nmemory usage: 81.6+ MB\n"
     ]
    }
   ],
   "source": [
    "LCL.info()"
   ]
  },
  {
   "cell_type": "code",
   "execution_count": 6,
   "metadata": {},
   "outputs": [
    {
     "output_type": "execute_result",
     "data": {
      "text/plain": [
       "           loan_amnt       int_rate    installment    annual_inc  \\\n",
       "count  396030.000000  396030.000000  396030.000000  3.960300e+05   \n",
       "mean    14113.888089      13.639400     431.849698  7.420318e+04   \n",
       "std      8357.441341       4.472157     250.727790  6.163762e+04   \n",
       "min       500.000000       5.320000      16.080000  0.000000e+00   \n",
       "25%      8000.000000      10.490000     250.330000  4.500000e+04   \n",
       "50%     12000.000000      13.330000     375.430000  6.400000e+04   \n",
       "75%     20000.000000      16.490000     567.300000  9.000000e+04   \n",
       "max     40000.000000      30.990000    1533.810000  8.706582e+06   \n",
       "\n",
       "                 dti       open_acc        pub_rec     revol_bal  \\\n",
       "count  396030.000000  396030.000000  396030.000000  3.960300e+05   \n",
       "mean       17.379514      11.311153       0.178191  1.584454e+04   \n",
       "std        18.019092       5.137649       0.530671  2.059184e+04   \n",
       "min         0.000000       0.000000       0.000000  0.000000e+00   \n",
       "25%        11.280000       8.000000       0.000000  6.025000e+03   \n",
       "50%        16.910000      10.000000       0.000000  1.118100e+04   \n",
       "75%        22.980000      14.000000       0.000000  1.962000e+04   \n",
       "max      9999.000000      90.000000      86.000000  1.743266e+06   \n",
       "\n",
       "          revol_util      total_acc       mort_acc  pub_rec_bankruptcies  \n",
       "count  395754.000000  396030.000000  358235.000000         395495.000000  \n",
       "mean       53.791749      25.414744       1.813991              0.121648  \n",
       "std        24.452193      11.886991       2.147930              0.356174  \n",
       "min         0.000000       2.000000       0.000000              0.000000  \n",
       "25%        35.800000      17.000000       0.000000              0.000000  \n",
       "50%        54.800000      24.000000       1.000000              0.000000  \n",
       "75%        72.900000      32.000000       3.000000              0.000000  \n",
       "max       892.300000     151.000000      34.000000              8.000000  "
      ],
      "text/html": "<div>\n<style scoped>\n    .dataframe tbody tr th:only-of-type {\n        vertical-align: middle;\n    }\n\n    .dataframe tbody tr th {\n        vertical-align: top;\n    }\n\n    .dataframe thead th {\n        text-align: right;\n    }\n</style>\n<table border=\"1\" class=\"dataframe\">\n  <thead>\n    <tr style=\"text-align: right;\">\n      <th></th>\n      <th>loan_amnt</th>\n      <th>int_rate</th>\n      <th>installment</th>\n      <th>annual_inc</th>\n      <th>dti</th>\n      <th>open_acc</th>\n      <th>pub_rec</th>\n      <th>revol_bal</th>\n      <th>revol_util</th>\n      <th>total_acc</th>\n      <th>mort_acc</th>\n      <th>pub_rec_bankruptcies</th>\n    </tr>\n  </thead>\n  <tbody>\n    <tr>\n      <th>count</th>\n      <td>396030.000000</td>\n      <td>396030.000000</td>\n      <td>396030.000000</td>\n      <td>3.960300e+05</td>\n      <td>396030.000000</td>\n      <td>396030.000000</td>\n      <td>396030.000000</td>\n      <td>3.960300e+05</td>\n      <td>395754.000000</td>\n      <td>396030.000000</td>\n      <td>358235.000000</td>\n      <td>395495.000000</td>\n    </tr>\n    <tr>\n      <th>mean</th>\n      <td>14113.888089</td>\n      <td>13.639400</td>\n      <td>431.849698</td>\n      <td>7.420318e+04</td>\n      <td>17.379514</td>\n      <td>11.311153</td>\n      <td>0.178191</td>\n      <td>1.584454e+04</td>\n      <td>53.791749</td>\n      <td>25.414744</td>\n      <td>1.813991</td>\n      <td>0.121648</td>\n    </tr>\n    <tr>\n      <th>std</th>\n      <td>8357.441341</td>\n      <td>4.472157</td>\n      <td>250.727790</td>\n      <td>6.163762e+04</td>\n      <td>18.019092</td>\n      <td>5.137649</td>\n      <td>0.530671</td>\n      <td>2.059184e+04</td>\n      <td>24.452193</td>\n      <td>11.886991</td>\n      <td>2.147930</td>\n      <td>0.356174</td>\n    </tr>\n    <tr>\n      <th>min</th>\n      <td>500.000000</td>\n      <td>5.320000</td>\n      <td>16.080000</td>\n      <td>0.000000e+00</td>\n      <td>0.000000</td>\n      <td>0.000000</td>\n      <td>0.000000</td>\n      <td>0.000000e+00</td>\n      <td>0.000000</td>\n      <td>2.000000</td>\n      <td>0.000000</td>\n      <td>0.000000</td>\n    </tr>\n    <tr>\n      <th>25%</th>\n      <td>8000.000000</td>\n      <td>10.490000</td>\n      <td>250.330000</td>\n      <td>4.500000e+04</td>\n      <td>11.280000</td>\n      <td>8.000000</td>\n      <td>0.000000</td>\n      <td>6.025000e+03</td>\n      <td>35.800000</td>\n      <td>17.000000</td>\n      <td>0.000000</td>\n      <td>0.000000</td>\n    </tr>\n    <tr>\n      <th>50%</th>\n      <td>12000.000000</td>\n      <td>13.330000</td>\n      <td>375.430000</td>\n      <td>6.400000e+04</td>\n      <td>16.910000</td>\n      <td>10.000000</td>\n      <td>0.000000</td>\n      <td>1.118100e+04</td>\n      <td>54.800000</td>\n      <td>24.000000</td>\n      <td>1.000000</td>\n      <td>0.000000</td>\n    </tr>\n    <tr>\n      <th>75%</th>\n      <td>20000.000000</td>\n      <td>16.490000</td>\n      <td>567.300000</td>\n      <td>9.000000e+04</td>\n      <td>22.980000</td>\n      <td>14.000000</td>\n      <td>0.000000</td>\n      <td>1.962000e+04</td>\n      <td>72.900000</td>\n      <td>32.000000</td>\n      <td>3.000000</td>\n      <td>0.000000</td>\n    </tr>\n    <tr>\n      <th>max</th>\n      <td>40000.000000</td>\n      <td>30.990000</td>\n      <td>1533.810000</td>\n      <td>8.706582e+06</td>\n      <td>9999.000000</td>\n      <td>90.000000</td>\n      <td>86.000000</td>\n      <td>1.743266e+06</td>\n      <td>892.300000</td>\n      <td>151.000000</td>\n      <td>34.000000</td>\n      <td>8.000000</td>\n    </tr>\n  </tbody>\n</table>\n</div>"
     },
     "metadata": {},
     "execution_count": 6
    }
   ],
   "source": [
    "LCL.describe()"
   ]
  },
  {
   "cell_type": "code",
   "execution_count": 7,
   "metadata": {},
   "outputs": [],
   "source": [
    "list_item = []\n",
    "for col in LCL.columns:\n",
    "    list_item.append([col, LCL[col].dtype, LCL[col].isna().sum(), round((LCL[col].isna().sum()/len(LCL[col]))*100,2),\n",
    "                      LCL[col].nunique(), list(LCL[col].unique()[:5])])\n",
    "\n",
    "dfDesc = pd.DataFrame(columns=['feature', 'data_type', 'null', 'nulPct', 'unique', 'uniqueSample'],data=list_item)"
   ]
  },
  {
   "cell_type": "code",
   "execution_count": 8,
   "metadata": {},
   "outputs": [
    {
     "output_type": "execute_result",
     "data": {
      "text/plain": [
       "                 feature data_type   null  nulPct  unique  \\\n",
       "0              loan_amnt   float64      0    0.00    1397   \n",
       "1                   term    object      0    0.00       2   \n",
       "2               int_rate   float64      0    0.00     566   \n",
       "3            installment   float64      0    0.00   55706   \n",
       "4                  grade    object      0    0.00       7   \n",
       "5              sub_grade    object      0    0.00      35   \n",
       "6              emp_title    object  22927    5.79  173105   \n",
       "7             emp_length    object  18301    4.62      11   \n",
       "8         home_ownership    object      0    0.00       6   \n",
       "9             annual_inc   float64      0    0.00   27197   \n",
       "10   verification_status    object      0    0.00       3   \n",
       "11               issue_d    object      0    0.00     115   \n",
       "12           loan_status    object      0    0.00       2   \n",
       "13               purpose    object      0    0.00      14   \n",
       "14                 title    object   1755    0.44   48817   \n",
       "15                   dti   float64      0    0.00    4262   \n",
       "16      earliest_cr_line    object      0    0.00     684   \n",
       "17              open_acc   float64      0    0.00      61   \n",
       "18               pub_rec   float64      0    0.00      20   \n",
       "19             revol_bal   float64      0    0.00   55622   \n",
       "20            revol_util   float64    276    0.07    1226   \n",
       "21             total_acc   float64      0    0.00     118   \n",
       "22   initial_list_status    object      0    0.00       2   \n",
       "23      application_type    object      0    0.00       3   \n",
       "24              mort_acc   float64  37795    9.54      33   \n",
       "25  pub_rec_bankruptcies   float64    535    0.14       9   \n",
       "26               address    object      0    0.00  393700   \n",
       "\n",
       "                                         uniqueSample  \n",
       "0         [10000.0, 8000.0, 15600.0, 7200.0, 24375.0]  \n",
       "1                            [ 36 months,  60 months]  \n",
       "2                  [11.44, 11.99, 10.49, 6.49, 17.27]  \n",
       "3            [329.48, 265.68, 506.97, 220.65, 609.33]  \n",
       "4                                     [B, A, C, E, D]  \n",
       "5                                [B4, B5, B3, A2, C5]  \n",
       "6   [Marketing, Credit analyst , Statistician, Cli...  \n",
       "7    [10+ years, 4 years, < 1 year, 6 years, 9 years]  \n",
       "8                  [RENT, MORTGAGE, OWN, OTHER, NONE]  \n",
       "9      [117000.0, 65000.0, 43057.0, 54000.0, 55000.0]  \n",
       "10          [Not Verified, Source Verified, Verified]  \n",
       "11  [Jan-2015, Nov-2014, Apr-2013, Sep-2015, Sep-2...  \n",
       "12                          [Fully Paid, Charged Off]  \n",
       "13  [vacation, debt_consolidation, credit_card, ho...  \n",
       "14  [Vacation, Debt consolidation, Credit card ref...  \n",
       "15                  [26.24, 22.05, 12.79, 2.6, 33.95]  \n",
       "16  [Jun-1990, Jul-2004, Aug-2007, Sep-2006, Mar-1...  \n",
       "17                       [16.0, 17.0, 13.0, 6.0, 8.0]  \n",
       "18                          [0.0, 1.0, 2.0, 3.0, 4.0]  \n",
       "19       [36369.0, 20131.0, 11987.0, 5472.0, 24584.0]  \n",
       "20                     [41.8, 53.3, 92.2, 21.5, 69.8]  \n",
       "21                     [25.0, 27.0, 26.0, 13.0, 43.0]  \n",
       "22                                             [w, f]  \n",
       "23                    [INDIVIDUAL, JOINT, DIRECT_PAY]  \n",
       "24                          [0.0, 3.0, 1.0, 4.0, 2.0]  \n",
       "25                          [0.0, 1.0, 2.0, 3.0, nan]  \n",
       "26  [0174 Michelle Gateway\\r\\nMendozaberg, OK 2269...  "
      ],
      "text/html": "<div>\n<style scoped>\n    .dataframe tbody tr th:only-of-type {\n        vertical-align: middle;\n    }\n\n    .dataframe tbody tr th {\n        vertical-align: top;\n    }\n\n    .dataframe thead th {\n        text-align: right;\n    }\n</style>\n<table border=\"1\" class=\"dataframe\">\n  <thead>\n    <tr style=\"text-align: right;\">\n      <th></th>\n      <th>feature</th>\n      <th>data_type</th>\n      <th>null</th>\n      <th>nulPct</th>\n      <th>unique</th>\n      <th>uniqueSample</th>\n    </tr>\n  </thead>\n  <tbody>\n    <tr>\n      <th>0</th>\n      <td>loan_amnt</td>\n      <td>float64</td>\n      <td>0</td>\n      <td>0.00</td>\n      <td>1397</td>\n      <td>[10000.0, 8000.0, 15600.0, 7200.0, 24375.0]</td>\n    </tr>\n    <tr>\n      <th>1</th>\n      <td>term</td>\n      <td>object</td>\n      <td>0</td>\n      <td>0.00</td>\n      <td>2</td>\n      <td>[ 36 months,  60 months]</td>\n    </tr>\n    <tr>\n      <th>2</th>\n      <td>int_rate</td>\n      <td>float64</td>\n      <td>0</td>\n      <td>0.00</td>\n      <td>566</td>\n      <td>[11.44, 11.99, 10.49, 6.49, 17.27]</td>\n    </tr>\n    <tr>\n      <th>3</th>\n      <td>installment</td>\n      <td>float64</td>\n      <td>0</td>\n      <td>0.00</td>\n      <td>55706</td>\n      <td>[329.48, 265.68, 506.97, 220.65, 609.33]</td>\n    </tr>\n    <tr>\n      <th>4</th>\n      <td>grade</td>\n      <td>object</td>\n      <td>0</td>\n      <td>0.00</td>\n      <td>7</td>\n      <td>[B, A, C, E, D]</td>\n    </tr>\n    <tr>\n      <th>5</th>\n      <td>sub_grade</td>\n      <td>object</td>\n      <td>0</td>\n      <td>0.00</td>\n      <td>35</td>\n      <td>[B4, B5, B3, A2, C5]</td>\n    </tr>\n    <tr>\n      <th>6</th>\n      <td>emp_title</td>\n      <td>object</td>\n      <td>22927</td>\n      <td>5.79</td>\n      <td>173105</td>\n      <td>[Marketing, Credit analyst , Statistician, Cli...</td>\n    </tr>\n    <tr>\n      <th>7</th>\n      <td>emp_length</td>\n      <td>object</td>\n      <td>18301</td>\n      <td>4.62</td>\n      <td>11</td>\n      <td>[10+ years, 4 years, &lt; 1 year, 6 years, 9 years]</td>\n    </tr>\n    <tr>\n      <th>8</th>\n      <td>home_ownership</td>\n      <td>object</td>\n      <td>0</td>\n      <td>0.00</td>\n      <td>6</td>\n      <td>[RENT, MORTGAGE, OWN, OTHER, NONE]</td>\n    </tr>\n    <tr>\n      <th>9</th>\n      <td>annual_inc</td>\n      <td>float64</td>\n      <td>0</td>\n      <td>0.00</td>\n      <td>27197</td>\n      <td>[117000.0, 65000.0, 43057.0, 54000.0, 55000.0]</td>\n    </tr>\n    <tr>\n      <th>10</th>\n      <td>verification_status</td>\n      <td>object</td>\n      <td>0</td>\n      <td>0.00</td>\n      <td>3</td>\n      <td>[Not Verified, Source Verified, Verified]</td>\n    </tr>\n    <tr>\n      <th>11</th>\n      <td>issue_d</td>\n      <td>object</td>\n      <td>0</td>\n      <td>0.00</td>\n      <td>115</td>\n      <td>[Jan-2015, Nov-2014, Apr-2013, Sep-2015, Sep-2...</td>\n    </tr>\n    <tr>\n      <th>12</th>\n      <td>loan_status</td>\n      <td>object</td>\n      <td>0</td>\n      <td>0.00</td>\n      <td>2</td>\n      <td>[Fully Paid, Charged Off]</td>\n    </tr>\n    <tr>\n      <th>13</th>\n      <td>purpose</td>\n      <td>object</td>\n      <td>0</td>\n      <td>0.00</td>\n      <td>14</td>\n      <td>[vacation, debt_consolidation, credit_card, ho...</td>\n    </tr>\n    <tr>\n      <th>14</th>\n      <td>title</td>\n      <td>object</td>\n      <td>1755</td>\n      <td>0.44</td>\n      <td>48817</td>\n      <td>[Vacation, Debt consolidation, Credit card ref...</td>\n    </tr>\n    <tr>\n      <th>15</th>\n      <td>dti</td>\n      <td>float64</td>\n      <td>0</td>\n      <td>0.00</td>\n      <td>4262</td>\n      <td>[26.24, 22.05, 12.79, 2.6, 33.95]</td>\n    </tr>\n    <tr>\n      <th>16</th>\n      <td>earliest_cr_line</td>\n      <td>object</td>\n      <td>0</td>\n      <td>0.00</td>\n      <td>684</td>\n      <td>[Jun-1990, Jul-2004, Aug-2007, Sep-2006, Mar-1...</td>\n    </tr>\n    <tr>\n      <th>17</th>\n      <td>open_acc</td>\n      <td>float64</td>\n      <td>0</td>\n      <td>0.00</td>\n      <td>61</td>\n      <td>[16.0, 17.0, 13.0, 6.0, 8.0]</td>\n    </tr>\n    <tr>\n      <th>18</th>\n      <td>pub_rec</td>\n      <td>float64</td>\n      <td>0</td>\n      <td>0.00</td>\n      <td>20</td>\n      <td>[0.0, 1.0, 2.0, 3.0, 4.0]</td>\n    </tr>\n    <tr>\n      <th>19</th>\n      <td>revol_bal</td>\n      <td>float64</td>\n      <td>0</td>\n      <td>0.00</td>\n      <td>55622</td>\n      <td>[36369.0, 20131.0, 11987.0, 5472.0, 24584.0]</td>\n    </tr>\n    <tr>\n      <th>20</th>\n      <td>revol_util</td>\n      <td>float64</td>\n      <td>276</td>\n      <td>0.07</td>\n      <td>1226</td>\n      <td>[41.8, 53.3, 92.2, 21.5, 69.8]</td>\n    </tr>\n    <tr>\n      <th>21</th>\n      <td>total_acc</td>\n      <td>float64</td>\n      <td>0</td>\n      <td>0.00</td>\n      <td>118</td>\n      <td>[25.0, 27.0, 26.0, 13.0, 43.0]</td>\n    </tr>\n    <tr>\n      <th>22</th>\n      <td>initial_list_status</td>\n      <td>object</td>\n      <td>0</td>\n      <td>0.00</td>\n      <td>2</td>\n      <td>[w, f]</td>\n    </tr>\n    <tr>\n      <th>23</th>\n      <td>application_type</td>\n      <td>object</td>\n      <td>0</td>\n      <td>0.00</td>\n      <td>3</td>\n      <td>[INDIVIDUAL, JOINT, DIRECT_PAY]</td>\n    </tr>\n    <tr>\n      <th>24</th>\n      <td>mort_acc</td>\n      <td>float64</td>\n      <td>37795</td>\n      <td>9.54</td>\n      <td>33</td>\n      <td>[0.0, 3.0, 1.0, 4.0, 2.0]</td>\n    </tr>\n    <tr>\n      <th>25</th>\n      <td>pub_rec_bankruptcies</td>\n      <td>float64</td>\n      <td>535</td>\n      <td>0.14</td>\n      <td>9</td>\n      <td>[0.0, 1.0, 2.0, 3.0, nan]</td>\n    </tr>\n    <tr>\n      <th>26</th>\n      <td>address</td>\n      <td>object</td>\n      <td>0</td>\n      <td>0.00</td>\n      <td>393700</td>\n      <td>[0174 Michelle Gateway\\r\\nMendozaberg, OK 2269...</td>\n    </tr>\n  </tbody>\n</table>\n</div>"
     },
     "metadata": {},
     "execution_count": 8
    }
   ],
   "source": [
    "dfDesc"
   ]
  },
  {
   "source": [
    "## 1. Feature Selection"
   ],
   "cell_type": "markdown",
   "metadata": {}
  },
  {
   "source": [
    "Langkah pertama adalah melakukan seleksi fitur dengan menganalisis hubungan antara semua fitur dan fitur target."
   ],
   "cell_type": "markdown",
   "metadata": {}
  },
  {
   "source": [
    "### Target Feature (Y)\n",
    "\n",
    "Yang menjadi Target pada Final Project ini adalah kolom/ fitur loan_status. Dimana loan_status merupakan status dari peminjaman apakah peminjaman tersebut sudah dibayarkan sepenuhnya (Full Paid) atau peminjaman sudah tidak dapat dibayarkan (Charge Off)"
   ],
   "cell_type": "markdown",
   "metadata": {}
  },
  {
   "source": [
    "### Train Feature (X)"
   ],
   "cell_type": "markdown",
   "metadata": {}
  },
  {
   "source": [
    "**1. Personal Information Feature**\n",
    "\n",
    "Dari DataFrame Lending Loan Club kita mendapatkan beberapa fitur yang memberikan informasi personal dari Peminjam, antara lain:\n",
    "- `emp_title` (Pekerjaan peminjam)\n",
    "- `emp_length` (Lama peminjam bekerja)\n",
    "- `home_ownership` (Kepemilikan rumah peminjam)\n",
    "- `address` (Alamat peminjam)\n",
    "- `annual_inc` (Pendapatan peminjam per tahun)\n",
    "\n",
    "Fitur `annual_inc` digunakan dalam pembuatan model, karena besaran pendapatan dapat mempengaruhi apakah seseorang mampu membayar hutang atau tidak dilihat dari seberapa besar dia meminjam.\n",
    "Informasi dari fitur `emp_title`, `emp_length`, `home_ownership` dan `address` hanya digunakan untuk keterangan tambahan atau identitas dari si Peminjam. Oleh karena itu fitur-fitur tersebut tidak digunakan dalam membangun model untuk Machine Learning"
   ],
   "cell_type": "markdown",
   "metadata": {}
  },
  {
   "source": [
    "**2. Date or Time Feature**\n",
    "\n",
    "Terdapat beberapa Fitur pada DataFrame yang memuat tanggal ataupun waktu\n",
    "- `issue_d` (Bulan dimana pinjaman tersebut didanai)\n",
    "- `earliest_cr_line` (Bulan di mana peminjam membuat pinjaman pertamanya)\n",
    "\n",
    "Karena nantinya model akan digunakan seiring berjalannya Perusahaan beroperasi, maka fitur di atas tidak diikutsertakan dalam membangun model dan hanya sebagai informasi tambahan saja"
   ],
   "cell_type": "markdown",
   "metadata": {}
  },
  {
   "source": [
    "**3. Term**\n",
    "\n",
    "Fitur term menujukan berapa lama pinjaman akan berlangsung. Semakin lama durasinya, semakin besar ketidakpastian yang akan menimbulkan risiko. Sehingga fitur digunakan dalam membangun model Machine Learning."
   ],
   "cell_type": "markdown",
   "metadata": {}
  },
  {
   "source": [
    "**4. Loan Information**\n",
    "\n",
    "Fitur dibawah ini berisi informasi pinjaman dari si Peminjam. \n",
    "\n",
    "- `loan_amnt` (Pinjaman yang diajukan oleh peminjam)\n",
    "- `int_rate` (Suku bunga pinjaman)\n",
    "- `installment` (Pembayaran bulanan dari pinjaman)\n",
    "- `grade` (Kelas atau tingkatan yang dilihat dari resiko yang ditetapkan oleh perusahaan/platform penyedia)\n",
    "- `purpose` (Kategori kegunaan dari pinjaman tersebut)\n",
    "- `title` (Judul pinjaman yang diberikan oleh peminjam)\n",
    "- `application_type` (Apakah pinjaman adalah aplikasi individu atau aplikasi bersama dengan dua peminjam bersama)\n",
    "\n",
    "Fitur `title` dan `application_type` tidak digunakan dalam pembuatan model karena hanya berisi keterangan tambahan dari pinjaman. \n",
    "Sedangkan untuk fitur `loan_amnt` dan `int_rate` diikutsertakan dalam pembuatan model karena besarnya pinjaman, suku bunga, pembayaran bulanan dan tingkatan resiko mempengaruhi kemampuan seseorang untuk membayar pinjaman tersebut.\n",
    "Fitur `purpose` dapat dimasukkan dalam pembuatan model, namun akan dilihat korelasinya terlebih dahulu"
   ],
   "cell_type": "markdown",
   "metadata": {}
  },
  {
   "source": [
    "**5. SubGrade & Grade**\n",
    "\n",
    "Fitur `sub_grade` merupakan pecahan dari grade, sedangkan grade memiliki nilai interval int_rate yang berbeda pada setiap gradenya. . Sehingga fitur tersebut dapat terwakilkan oleh fitur `int_rate`, sehingga tidak perlu diikutsertakan dalam membangun model"
   ],
   "cell_type": "markdown",
   "metadata": {}
  },
  {
   "source": [
    "**6. Borrower's Track Record**\n",
    "\n",
    "- `open_acc` (Jumlah pinjaman yang masih aktif)\n",
    "- `pub_rec` (Jumlah catatan publik yang merendahkan)\n",
    "- `total_acc` (Jumlah kredit yang saat ini ada dalam arsip kredit peminjam)\n",
    "- `pub_rec_bankruptcies` (Jumlah catatan publik kebangkrutan)\n",
    "- `revol_bal` (Tanggungan hutang total saat ini)\n",
    "- `mort_acc` (Jumlah akun mortgage)\n",
    "\n",
    "Fitur `total_acc` dan `mort_acc` tidak diikutsertakan dalam pembagunan model karena tidak diketahui berapa kredit yang berhasil dibayar penuh dan berapa yang tidak, sehingga informasi didalamnya bias.\n",
    "Fitur `revol_bal` dapat mempengaruhi kemampuan peminjam dalam melakukan pembayaran, karena besar hutang sekarang dapat mempengaruhi kemampuan peminjam jika ingin menambah hutang\n",
    "Sedangkan untuk fitur `open_acc`, `pub_rec` dan `pub_rec_bankruptcies` dapat dimasukkan dalam pembuatan model, namun akan dilihat korelasinya terlebih dahulu\n"
   ],
   "cell_type": "markdown",
   "metadata": {}
  },
  {
   "source": [
    "**7. Income Verification Status**\n",
    "\n",
    "Fitur `verification_status` berisi tentang apakah pendapatan peminjam sudah terverifikasi atau belum. Fitur ini merupakan keterangan tambahan dan tidak mempengaruhi psikologi peminjam apakah dapat membayar pinjamannya secara penuh atau tidak karena tidak semua pekerjaan dapat diverifikasi penghasilannya"
   ],
   "cell_type": "markdown",
   "metadata": {}
  },
  {
   "source": [
    "**8. Initial List Status**\n",
    "\n",
    "Fitur `initial_list_status` hanya berisi keterangan tambahan tentang tipe pemberi pinjaman (investor) hanya satu orang saja (whole) atau lebih dari satu orang (fractional) sehingga fitur ini tidak diikutsertakan dalam pembuatan model"
   ],
   "cell_type": "markdown",
   "metadata": {}
  },
  {
   "source": [
    "**9. Installment**\n",
    "\n",
    "Karena `Installment` merupakan hasil dari `loan_amnt`, `int_rate` dan `term`, maka fitur `installment' tidak perlu diikutkan dalam pembuatan model karena sudah terwakilkan"
   ],
   "cell_type": "markdown",
   "metadata": {}
  },
  {
   "source": [
    "#### 10. Title\n",
    "`title` hanya memberikan judul yang diberikan oleh peminjam. Setiap peminjam dapat memberikan maksud peminjaman yang sama namun dengan judul yang berbeda"
   ],
   "cell_type": "markdown",
   "metadata": {}
  },
  {
   "source": [
    "**11. Others**\n",
    "\n",
    "- `dti` (Rasio total hutang terhadap pendapatan bulanan yang dilaporkan sendiri peminjam)\n",
    "- `revol_util` (Jumlah kredit yang digunakan peminjam relatif terhadap semua kredit bergulir yang tersedia)"
   ],
   "cell_type": "markdown",
   "metadata": {}
  },
  {
   "cell_type": "code",
   "execution_count": 9,
   "metadata": {},
   "outputs": [],
   "source": [
    "def correlation_ratio(categories, measurements):\n",
    "    \n",
    "    def convert(data, to):\n",
    "        converted = None\n",
    "        if to == 'array':\n",
    "            if isinstance(data, np.ndarray):\n",
    "                converted = data\n",
    "            elif isinstance(data, pd.Series):\n",
    "                converted = data.values\n",
    "            elif isinstance(data, list):\n",
    "                converted = np.array(data)\n",
    "            elif isinstance(data, pd.DataFrame):\n",
    "                converted = data.as_matrix()\n",
    "        elif to == 'list':\n",
    "            if isinstance(data, list):\n",
    "                converted = data\n",
    "            elif isinstance(data, pd.Series):\n",
    "                converted = data.values.tolist()\n",
    "            elif isinstance(data, np.ndarray):\n",
    "                converted = data.tolist()\n",
    "        elif to == 'dataframe':\n",
    "            if isinstance(data, pd.DataFrame):\n",
    "                converted = data\n",
    "            elif isinstance(data, np.ndarray):\n",
    "                converted = pd.DataFrame(data)\n",
    "        else:\n",
    "            raise ValueError(\"Unknown data conversion: {}\".format(to))\n",
    "        if converted is None:\n",
    "            raise TypeError('cannot handle data conversion of type: {} to {}'.format(type(data),to))\n",
    "        else:\n",
    "            return converted\n",
    "        \n",
    "    categories = convert(categories, 'array')\n",
    "    measurements = convert(measurements, 'array')\n",
    "    fcat, _ = pd.factorize(categories)\n",
    "    cat_num = np.max(fcat)+1\n",
    "    y_avg_array = np.zeros(cat_num)\n",
    "    n_array = np.zeros(cat_num)\n",
    "    for i in range(0,cat_num):\n",
    "        cat_measures = measurements[np.argwhere(fcat == i).flatten()]\n",
    "        n_array[i] = len(cat_measures)\n",
    "        y_avg_array[i] = np.average(cat_measures)\n",
    "    y_total_avg = np.sum(np.multiply(y_avg_array,n_array))/np.sum(n_array)\n",
    "    numerator = np.sum(np.multiply(n_array,np.power(np.subtract(y_avg_array,y_total_avg),2)))\n",
    "    denominator = np.sum(np.power(np.subtract(measurements,y_total_avg),2))\n",
    "    if numerator == 0:\n",
    "        eta = 0.0\n",
    "    else:\n",
    "        eta = numerator/denominator\n",
    "    return eta"
   ]
  },
  {
   "cell_type": "code",
   "execution_count": 10,
   "metadata": {},
   "outputs": [],
   "source": [
    "object_col = ['application_type','purpose','verification_status','initial_list_status']\n",
    "non_object_col = ['open_acc','pub_rec','pub_rec_bankruptcies','revol_util','dti','mort_acc','total_acc']"
   ]
  },
  {
   "cell_type": "code",
   "execution_count": 11,
   "metadata": {},
   "outputs": [
    {
     "output_type": "execute_result",
     "data": {
      "text/plain": [
       "                      correlation_ratio_score\n",
       "dti                                  0.017647\n",
       "revol_util                           0.006006\n",
       "mort_acc                             0.005255\n",
       "open_acc                             0.000891\n",
       "total_acc                            0.000347\n",
       "pub_rec                              0.000190\n",
       "pub_rec_bankruptcies                 0.000007"
      ],
      "text/html": "<div>\n<style scoped>\n    .dataframe tbody tr th:only-of-type {\n        vertical-align: middle;\n    }\n\n    .dataframe tbody tr th {\n        vertical-align: top;\n    }\n\n    .dataframe thead th {\n        text-align: right;\n    }\n</style>\n<table border=\"1\" class=\"dataframe\">\n  <thead>\n    <tr style=\"text-align: right;\">\n      <th></th>\n      <th>correlation_ratio_score</th>\n    </tr>\n  </thead>\n  <tbody>\n    <tr>\n      <th>dti</th>\n      <td>0.017647</td>\n    </tr>\n    <tr>\n      <th>revol_util</th>\n      <td>0.006006</td>\n    </tr>\n    <tr>\n      <th>mort_acc</th>\n      <td>0.005255</td>\n    </tr>\n    <tr>\n      <th>open_acc</th>\n      <td>0.000891</td>\n    </tr>\n    <tr>\n      <th>total_acc</th>\n      <td>0.000347</td>\n    </tr>\n    <tr>\n      <th>pub_rec</th>\n      <td>0.000190</td>\n    </tr>\n    <tr>\n      <th>pub_rec_bankruptcies</th>\n      <td>0.000007</td>\n    </tr>\n  </tbody>\n</table>\n</div>"
     },
     "metadata": {},
     "execution_count": 11
    }
   ],
   "source": [
    "corr = {}\n",
    "for col in non_object_col:\n",
    "    corr[col] = correlation_ratio(LCL.dropna()['loan_status'], LCL.dropna()[col])\n",
    "corr_df = pd.DataFrame(corr.values(), index=corr.keys(), columns=['correlation_ratio_score'])\n",
    "corr_df.sort_values('correlation_ratio_score', ascending=False)"
   ]
  },
  {
   "cell_type": "code",
   "execution_count": 12,
   "metadata": {},
   "outputs": [],
   "source": [
    "def encode_column(yourdf, yourcolumn):\n",
    "    column_unique = yourdf[yourcolumn].unique().tolist()\n",
    "    dict_column = {column_unique[i]: i for i in range(len(column_unique))}\n",
    "    return [dict_column[i] for i in yourdf[yourcolumn]]"
   ]
  },
  {
   "cell_type": "code",
   "execution_count": 13,
   "metadata": {},
   "outputs": [],
   "source": [
    "from collections import Counter\n",
    "import math\n",
    "import scipy.stats as ss\n",
    "\n",
    "def conditional_entropy(x,y):\n",
    "    # entropy of x given y\n",
    "    y_counter = Counter(y)\n",
    "    xy_counter = Counter(list(zip(x,y)))\n",
    "    total_occurrences = sum(y_counter.values())\n",
    "    entropy = 0\n",
    "    for xy in xy_counter.keys():\n",
    "        p_xy = xy_counter[xy] / total_occurrences\n",
    "        p_y = y_counter[xy[1]] / total_occurrences\n",
    "        entropy += p_xy * math.log(p_y/p_xy)\n",
    "    return entropy\n",
    "\n",
    "def theil_u(x,y):\n",
    "    s_xy = conditional_entropy(x,y)\n",
    "    x_counter = Counter(x)\n",
    "    total_occurrences = sum(x_counter.values())\n",
    "    p_x = list(map(lambda n: n/total_occurrences, x_counter.values()))\n",
    "    s_x = ss.entropy(p_x)\n",
    "    if s_x == 0:\n",
    "        return 1\n",
    "    else:\n",
    "        return (s_x - s_xy) / s_x"
   ]
  },
  {
   "cell_type": "code",
   "execution_count": 14,
   "metadata": {},
   "outputs": [
    {
     "output_type": "execute_result",
     "data": {
      "text/plain": [
       "                     correlation_ratio_score\n",
       "verification_status             7.600964e-03\n",
       "purpose                         3.442960e-03\n",
       "application_type                1.336912e-04\n",
       "initial_list_status             5.739206e-07"
      ],
      "text/html": "<div>\n<style scoped>\n    .dataframe tbody tr th:only-of-type {\n        vertical-align: middle;\n    }\n\n    .dataframe tbody tr th {\n        vertical-align: top;\n    }\n\n    .dataframe thead th {\n        text-align: right;\n    }\n</style>\n<table border=\"1\" class=\"dataframe\">\n  <thead>\n    <tr style=\"text-align: right;\">\n      <th></th>\n      <th>correlation_ratio_score</th>\n    </tr>\n  </thead>\n  <tbody>\n    <tr>\n      <th>verification_status</th>\n      <td>7.600964e-03</td>\n    </tr>\n    <tr>\n      <th>purpose</th>\n      <td>3.442960e-03</td>\n    </tr>\n    <tr>\n      <th>application_type</th>\n      <td>1.336912e-04</td>\n    </tr>\n    <tr>\n      <th>initial_list_status</th>\n      <td>5.739206e-07</td>\n    </tr>\n  </tbody>\n</table>\n</div>"
     },
     "metadata": {},
     "execution_count": 14
    }
   ],
   "source": [
    "corr = {}\n",
    "for col in object_col:\n",
    "    corr[col] = theil_u(encode_column(LCL.dropna(),'loan_status'),encode_column(LCL.dropna(),col))\n",
    "corr_df = pd.DataFrame(corr.values(), index=corr.keys(), columns=['correlation_ratio_score'])\n",
    "corr_df.sort_values('correlation_ratio_score', ascending=False)"
   ]
  },
  {
   "cell_type": "code",
   "execution_count": 15,
   "metadata": {},
   "outputs": [],
   "source": [
    "data = LCL.drop(['sub_grade','emp_title','emp_length','home_ownership','verification_status','issue_d','title','dti','earliest_cr_line','revol_util','total_acc','application_type','address','initial_list_status','mort_acc','open_acc','pub_rec','pub_rec_bankruptcies','purpose','grade','installment'],axis=1)"
   ]
  },
  {
   "source": [
    "## 2. Data Cleaning"
   ],
   "cell_type": "markdown",
   "metadata": {}
  },
  {
   "source": [
    "### Null and NaN\n",
    "\n",
    "Perlu dilakukan Data Cleaning untuk membersihkan data NaN dan Null sehingga tidak ada kendala atau membuat Machine Learning menjadi kurang baik"
   ],
   "cell_type": "markdown",
   "metadata": {}
  },
  {
   "cell_type": "code",
   "execution_count": 16,
   "metadata": {},
   "outputs": [],
   "source": [
    "df = data.dropna()"
   ]
  },
  {
   "cell_type": "code",
   "execution_count": 17,
   "metadata": {
    "tags": []
   },
   "outputs": [
    {
     "output_type": "stream",
     "name": "stdout",
     "text": [
      "<class 'pandas.core.frame.DataFrame'>\nInt64Index: 396030 entries, 0 to 396029\nData columns (total 6 columns):\n #   Column       Non-Null Count   Dtype  \n---  ------       --------------   -----  \n 0   loan_amnt    396030 non-null  float64\n 1   term         396030 non-null  object \n 2   int_rate     396030 non-null  float64\n 3   annual_inc   396030 non-null  float64\n 4   loan_status  396030 non-null  object \n 5   revol_bal    396030 non-null  float64\ndtypes: float64(4), object(2)\nmemory usage: 21.2+ MB\n"
     ]
    }
   ],
   "source": [
    "df.info()"
   ]
  },
  {
   "cell_type": "code",
   "execution_count": 18,
   "metadata": {},
   "outputs": [
    {
     "output_type": "execute_result",
     "data": {
      "text/plain": [
       "        loan_amnt        term  int_rate  annual_inc  loan_status  revol_bal\n",
       "0         10000.0   36 months     11.44    117000.0   Fully Paid    36369.0\n",
       "1          8000.0   36 months     11.99     65000.0   Fully Paid    20131.0\n",
       "2         15600.0   36 months     10.49     43057.0   Fully Paid    11987.0\n",
       "3          7200.0   36 months      6.49     54000.0   Fully Paid     5472.0\n",
       "4         24375.0   60 months     17.27     55000.0  Charged Off    24584.0\n",
       "...           ...         ...       ...         ...          ...        ...\n",
       "396025    10000.0   60 months     10.99     40000.0   Fully Paid     1990.0\n",
       "396026    21000.0   36 months     12.29    110000.0   Fully Paid    43263.0\n",
       "396027     5000.0   36 months      9.99     56500.0   Fully Paid    32704.0\n",
       "396028    21000.0   60 months     15.31     64000.0   Fully Paid    15704.0\n",
       "396029     2000.0   36 months     13.61     42996.0   Fully Paid     4292.0\n",
       "\n",
       "[396030 rows x 6 columns]"
      ],
      "text/html": "<div>\n<style scoped>\n    .dataframe tbody tr th:only-of-type {\n        vertical-align: middle;\n    }\n\n    .dataframe tbody tr th {\n        vertical-align: top;\n    }\n\n    .dataframe thead th {\n        text-align: right;\n    }\n</style>\n<table border=\"1\" class=\"dataframe\">\n  <thead>\n    <tr style=\"text-align: right;\">\n      <th></th>\n      <th>loan_amnt</th>\n      <th>term</th>\n      <th>int_rate</th>\n      <th>annual_inc</th>\n      <th>loan_status</th>\n      <th>revol_bal</th>\n    </tr>\n  </thead>\n  <tbody>\n    <tr>\n      <th>0</th>\n      <td>10000.0</td>\n      <td>36 months</td>\n      <td>11.44</td>\n      <td>117000.0</td>\n      <td>Fully Paid</td>\n      <td>36369.0</td>\n    </tr>\n    <tr>\n      <th>1</th>\n      <td>8000.0</td>\n      <td>36 months</td>\n      <td>11.99</td>\n      <td>65000.0</td>\n      <td>Fully Paid</td>\n      <td>20131.0</td>\n    </tr>\n    <tr>\n      <th>2</th>\n      <td>15600.0</td>\n      <td>36 months</td>\n      <td>10.49</td>\n      <td>43057.0</td>\n      <td>Fully Paid</td>\n      <td>11987.0</td>\n    </tr>\n    <tr>\n      <th>3</th>\n      <td>7200.0</td>\n      <td>36 months</td>\n      <td>6.49</td>\n      <td>54000.0</td>\n      <td>Fully Paid</td>\n      <td>5472.0</td>\n    </tr>\n    <tr>\n      <th>4</th>\n      <td>24375.0</td>\n      <td>60 months</td>\n      <td>17.27</td>\n      <td>55000.0</td>\n      <td>Charged Off</td>\n      <td>24584.0</td>\n    </tr>\n    <tr>\n      <th>...</th>\n      <td>...</td>\n      <td>...</td>\n      <td>...</td>\n      <td>...</td>\n      <td>...</td>\n      <td>...</td>\n    </tr>\n    <tr>\n      <th>396025</th>\n      <td>10000.0</td>\n      <td>60 months</td>\n      <td>10.99</td>\n      <td>40000.0</td>\n      <td>Fully Paid</td>\n      <td>1990.0</td>\n    </tr>\n    <tr>\n      <th>396026</th>\n      <td>21000.0</td>\n      <td>36 months</td>\n      <td>12.29</td>\n      <td>110000.0</td>\n      <td>Fully Paid</td>\n      <td>43263.0</td>\n    </tr>\n    <tr>\n      <th>396027</th>\n      <td>5000.0</td>\n      <td>36 months</td>\n      <td>9.99</td>\n      <td>56500.0</td>\n      <td>Fully Paid</td>\n      <td>32704.0</td>\n    </tr>\n    <tr>\n      <th>396028</th>\n      <td>21000.0</td>\n      <td>60 months</td>\n      <td>15.31</td>\n      <td>64000.0</td>\n      <td>Fully Paid</td>\n      <td>15704.0</td>\n    </tr>\n    <tr>\n      <th>396029</th>\n      <td>2000.0</td>\n      <td>36 months</td>\n      <td>13.61</td>\n      <td>42996.0</td>\n      <td>Fully Paid</td>\n      <td>4292.0</td>\n    </tr>\n  </tbody>\n</table>\n<p>396030 rows × 6 columns</p>\n</div>"
     },
     "metadata": {},
     "execution_count": 18
    }
   ],
   "source": [
    "df"
   ]
  },
  {
   "source": [
    "## 4. Export CSV file\n",
    "\n",
    "The last step of this stage is to save the cleaned data into CSV format. So it can be used for a later stage"
   ],
   "cell_type": "markdown",
   "metadata": {}
  },
  {
   "cell_type": "code",
   "execution_count": 19,
   "metadata": {},
   "outputs": [],
   "source": [
    "df.to_csv('Lending_Club_Loan_Data.csv')"
   ]
  },
  {
   "cell_type": "code",
   "execution_count": 20,
   "metadata": {},
   "outputs": [],
   "source": [
    "def outlier(x) :\n",
    "    Q1 = np.quantile(x,0.25,interpolation='midpoint')\n",
    "    Q3 = np.quantile(x,0.75,interpolation='midpoint')\n",
    "    IQR = Q3 - Q1\n",
    "    upper = Q3 + 1.5*IQR\n",
    "    lower = Q1 - 1.5*IQR\n",
    "    return upper, lower"
   ]
  },
  {
   "cell_type": "code",
   "execution_count": 21,
   "metadata": {},
   "outputs": [],
   "source": [
    "upper_annual_inc, lower_annual_inc = outlier(df['annual_inc'])"
   ]
  },
  {
   "cell_type": "code",
   "execution_count": 22,
   "metadata": {},
   "outputs": [],
   "source": [
    "df.drop(list((df[(df['annual_inc']<lower_annual_inc) | (df['annual_inc']>upper_annual_inc)]).index),inplace=True)\n",
    "df.reset_index(inplace=True)\n",
    "df.drop('index',axis=1,inplace=True)"
   ]
  },
  {
   "cell_type": "code",
   "execution_count": 23,
   "metadata": {},
   "outputs": [],
   "source": [
    "upper_revol_bal, lower_revol_bal = outlier(df['revol_bal'])"
   ]
  },
  {
   "cell_type": "code",
   "execution_count": 24,
   "metadata": {},
   "outputs": [],
   "source": [
    "df.drop(list((df[(df['revol_bal']<lower_revol_bal) | (df['revol_bal']>upper_revol_bal)]).index),inplace=True)\n",
    "df.reset_index(inplace=True)\n",
    "df.drop('index',axis=1,inplace=True)"
   ]
  },
  {
   "cell_type": "code",
   "execution_count": 25,
   "metadata": {},
   "outputs": [],
   "source": [
    "df = df[(df['loan_amnt']>=1000) & (df['loan_amnt']<=40000)]"
   ]
  },
  {
   "cell_type": "code",
   "execution_count": 26,
   "metadata": {},
   "outputs": [
    {
     "output_type": "execute_result",
     "data": {
      "text/plain": [
       "        loan_amnt        term  int_rate  annual_inc  loan_status  revol_bal\n",
       "0         10000.0   36 months     11.44    117000.0   Fully Paid    36369.0\n",
       "1          8000.0   36 months     11.99     65000.0   Fully Paid    20131.0\n",
       "2         15600.0   36 months     10.49     43057.0   Fully Paid    11987.0\n",
       "3          7200.0   36 months      6.49     54000.0   Fully Paid     5472.0\n",
       "4         24375.0   60 months     17.27     55000.0  Charged Off    24584.0\n",
       "...           ...         ...       ...         ...          ...        ...\n",
       "360471     6000.0   36 months     13.11     64000.0   Fully Paid    11456.0\n",
       "360472    10000.0   60 months     10.99     40000.0   Fully Paid     1990.0\n",
       "360473     5000.0   36 months      9.99     56500.0   Fully Paid    32704.0\n",
       "360474    21000.0   60 months     15.31     64000.0   Fully Paid    15704.0\n",
       "360475     2000.0   36 months     13.61     42996.0   Fully Paid     4292.0\n",
       "\n",
       "[360467 rows x 6 columns]"
      ],
      "text/html": "<div>\n<style scoped>\n    .dataframe tbody tr th:only-of-type {\n        vertical-align: middle;\n    }\n\n    .dataframe tbody tr th {\n        vertical-align: top;\n    }\n\n    .dataframe thead th {\n        text-align: right;\n    }\n</style>\n<table border=\"1\" class=\"dataframe\">\n  <thead>\n    <tr style=\"text-align: right;\">\n      <th></th>\n      <th>loan_amnt</th>\n      <th>term</th>\n      <th>int_rate</th>\n      <th>annual_inc</th>\n      <th>loan_status</th>\n      <th>revol_bal</th>\n    </tr>\n  </thead>\n  <tbody>\n    <tr>\n      <th>0</th>\n      <td>10000.0</td>\n      <td>36 months</td>\n      <td>11.44</td>\n      <td>117000.0</td>\n      <td>Fully Paid</td>\n      <td>36369.0</td>\n    </tr>\n    <tr>\n      <th>1</th>\n      <td>8000.0</td>\n      <td>36 months</td>\n      <td>11.99</td>\n      <td>65000.0</td>\n      <td>Fully Paid</td>\n      <td>20131.0</td>\n    </tr>\n    <tr>\n      <th>2</th>\n      <td>15600.0</td>\n      <td>36 months</td>\n      <td>10.49</td>\n      <td>43057.0</td>\n      <td>Fully Paid</td>\n      <td>11987.0</td>\n    </tr>\n    <tr>\n      <th>3</th>\n      <td>7200.0</td>\n      <td>36 months</td>\n      <td>6.49</td>\n      <td>54000.0</td>\n      <td>Fully Paid</td>\n      <td>5472.0</td>\n    </tr>\n    <tr>\n      <th>4</th>\n      <td>24375.0</td>\n      <td>60 months</td>\n      <td>17.27</td>\n      <td>55000.0</td>\n      <td>Charged Off</td>\n      <td>24584.0</td>\n    </tr>\n    <tr>\n      <th>...</th>\n      <td>...</td>\n      <td>...</td>\n      <td>...</td>\n      <td>...</td>\n      <td>...</td>\n      <td>...</td>\n    </tr>\n    <tr>\n      <th>360471</th>\n      <td>6000.0</td>\n      <td>36 months</td>\n      <td>13.11</td>\n      <td>64000.0</td>\n      <td>Fully Paid</td>\n      <td>11456.0</td>\n    </tr>\n    <tr>\n      <th>360472</th>\n      <td>10000.0</td>\n      <td>60 months</td>\n      <td>10.99</td>\n      <td>40000.0</td>\n      <td>Fully Paid</td>\n      <td>1990.0</td>\n    </tr>\n    <tr>\n      <th>360473</th>\n      <td>5000.0</td>\n      <td>36 months</td>\n      <td>9.99</td>\n      <td>56500.0</td>\n      <td>Fully Paid</td>\n      <td>32704.0</td>\n    </tr>\n    <tr>\n      <th>360474</th>\n      <td>21000.0</td>\n      <td>60 months</td>\n      <td>15.31</td>\n      <td>64000.0</td>\n      <td>Fully Paid</td>\n      <td>15704.0</td>\n    </tr>\n    <tr>\n      <th>360475</th>\n      <td>2000.0</td>\n      <td>36 months</td>\n      <td>13.61</td>\n      <td>42996.0</td>\n      <td>Fully Paid</td>\n      <td>4292.0</td>\n    </tr>\n  </tbody>\n</table>\n<p>360467 rows × 6 columns</p>\n</div>"
     },
     "metadata": {},
     "execution_count": 26
    }
   ],
   "source": [
    "df"
   ]
  },
  {
   "cell_type": "code",
   "execution_count": 27,
   "metadata": {},
   "outputs": [],
   "source": [
    "df.to_csv('LendingClub_Loan_Data.csv')"
   ]
  },
  {
   "cell_type": "code",
   "execution_count": 28,
   "metadata": {},
   "outputs": [],
   "source": [
    "df[:100].to_csv('LendingClub_Loan.csv')"
   ]
  },
  {
   "cell_type": "code",
   "execution_count": 29,
   "metadata": {},
   "outputs": [],
   "source": [
    "df_dum = df.copy()"
   ]
  },
  {
   "cell_type": "code",
   "execution_count": 30,
   "metadata": {},
   "outputs": [
    {
     "output_type": "execute_result",
     "data": {
      "text/plain": [
       "        loan_amnt        term  int_rate  annual_inc  loan_status  revol_bal\n",
       "0         10000.0   36 months     11.44    117000.0   Fully Paid    36369.0\n",
       "1          8000.0   36 months     11.99     65000.0   Fully Paid    20131.0\n",
       "2         15600.0   36 months     10.49     43057.0   Fully Paid    11987.0\n",
       "3          7200.0   36 months      6.49     54000.0   Fully Paid     5472.0\n",
       "4         24375.0   60 months     17.27     55000.0  Charged Off    24584.0\n",
       "...           ...         ...       ...         ...          ...        ...\n",
       "360471     6000.0   36 months     13.11     64000.0   Fully Paid    11456.0\n",
       "360472    10000.0   60 months     10.99     40000.0   Fully Paid     1990.0\n",
       "360473     5000.0   36 months      9.99     56500.0   Fully Paid    32704.0\n",
       "360474    21000.0   60 months     15.31     64000.0   Fully Paid    15704.0\n",
       "360475     2000.0   36 months     13.61     42996.0   Fully Paid     4292.0\n",
       "\n",
       "[360467 rows x 6 columns]"
      ],
      "text/html": "<div>\n<style scoped>\n    .dataframe tbody tr th:only-of-type {\n        vertical-align: middle;\n    }\n\n    .dataframe tbody tr th {\n        vertical-align: top;\n    }\n\n    .dataframe thead th {\n        text-align: right;\n    }\n</style>\n<table border=\"1\" class=\"dataframe\">\n  <thead>\n    <tr style=\"text-align: right;\">\n      <th></th>\n      <th>loan_amnt</th>\n      <th>term</th>\n      <th>int_rate</th>\n      <th>annual_inc</th>\n      <th>loan_status</th>\n      <th>revol_bal</th>\n    </tr>\n  </thead>\n  <tbody>\n    <tr>\n      <th>0</th>\n      <td>10000.0</td>\n      <td>36 months</td>\n      <td>11.44</td>\n      <td>117000.0</td>\n      <td>Fully Paid</td>\n      <td>36369.0</td>\n    </tr>\n    <tr>\n      <th>1</th>\n      <td>8000.0</td>\n      <td>36 months</td>\n      <td>11.99</td>\n      <td>65000.0</td>\n      <td>Fully Paid</td>\n      <td>20131.0</td>\n    </tr>\n    <tr>\n      <th>2</th>\n      <td>15600.0</td>\n      <td>36 months</td>\n      <td>10.49</td>\n      <td>43057.0</td>\n      <td>Fully Paid</td>\n      <td>11987.0</td>\n    </tr>\n    <tr>\n      <th>3</th>\n      <td>7200.0</td>\n      <td>36 months</td>\n      <td>6.49</td>\n      <td>54000.0</td>\n      <td>Fully Paid</td>\n      <td>5472.0</td>\n    </tr>\n    <tr>\n      <th>4</th>\n      <td>24375.0</td>\n      <td>60 months</td>\n      <td>17.27</td>\n      <td>55000.0</td>\n      <td>Charged Off</td>\n      <td>24584.0</td>\n    </tr>\n    <tr>\n      <th>...</th>\n      <td>...</td>\n      <td>...</td>\n      <td>...</td>\n      <td>...</td>\n      <td>...</td>\n      <td>...</td>\n    </tr>\n    <tr>\n      <th>360471</th>\n      <td>6000.0</td>\n      <td>36 months</td>\n      <td>13.11</td>\n      <td>64000.0</td>\n      <td>Fully Paid</td>\n      <td>11456.0</td>\n    </tr>\n    <tr>\n      <th>360472</th>\n      <td>10000.0</td>\n      <td>60 months</td>\n      <td>10.99</td>\n      <td>40000.0</td>\n      <td>Fully Paid</td>\n      <td>1990.0</td>\n    </tr>\n    <tr>\n      <th>360473</th>\n      <td>5000.0</td>\n      <td>36 months</td>\n      <td>9.99</td>\n      <td>56500.0</td>\n      <td>Fully Paid</td>\n      <td>32704.0</td>\n    </tr>\n    <tr>\n      <th>360474</th>\n      <td>21000.0</td>\n      <td>60 months</td>\n      <td>15.31</td>\n      <td>64000.0</td>\n      <td>Fully Paid</td>\n      <td>15704.0</td>\n    </tr>\n    <tr>\n      <th>360475</th>\n      <td>2000.0</td>\n      <td>36 months</td>\n      <td>13.61</td>\n      <td>42996.0</td>\n      <td>Fully Paid</td>\n      <td>4292.0</td>\n    </tr>\n  </tbody>\n</table>\n<p>360467 rows × 6 columns</p>\n</div>"
     },
     "metadata": {},
     "execution_count": 30
    }
   ],
   "source": [
    "df_dum"
   ]
  },
  {
   "cell_type": "code",
   "execution_count": 31,
   "metadata": {},
   "outputs": [],
   "source": [
    "df_dum['loan_status'] = pd.get_dummies(df['loan_status'], drop_first=True) # 3"
   ]
  },
  {
   "cell_type": "code",
   "execution_count": 32,
   "metadata": {},
   "outputs": [],
   "source": [
    "df_dum['term'] = pd.get_dummies(df['term'], drop_first=True) # 3"
   ]
  },
  {
   "cell_type": "code",
   "execution_count": 33,
   "metadata": {},
   "outputs": [
    {
     "output_type": "execute_result",
     "data": {
      "text/plain": [
       "        loan_amnt  term  int_rate  annual_inc  loan_status  revol_bal\n",
       "0         10000.0     0     11.44    117000.0            1    36369.0\n",
       "1          8000.0     0     11.99     65000.0            1    20131.0\n",
       "2         15600.0     0     10.49     43057.0            1    11987.0\n",
       "3          7200.0     0      6.49     54000.0            1     5472.0\n",
       "4         24375.0     1     17.27     55000.0            0    24584.0\n",
       "...           ...   ...       ...         ...          ...        ...\n",
       "360471     6000.0     0     13.11     64000.0            1    11456.0\n",
       "360472    10000.0     1     10.99     40000.0            1     1990.0\n",
       "360473     5000.0     0      9.99     56500.0            1    32704.0\n",
       "360474    21000.0     1     15.31     64000.0            1    15704.0\n",
       "360475     2000.0     0     13.61     42996.0            1     4292.0\n",
       "\n",
       "[360467 rows x 6 columns]"
      ],
      "text/html": "<div>\n<style scoped>\n    .dataframe tbody tr th:only-of-type {\n        vertical-align: middle;\n    }\n\n    .dataframe tbody tr th {\n        vertical-align: top;\n    }\n\n    .dataframe thead th {\n        text-align: right;\n    }\n</style>\n<table border=\"1\" class=\"dataframe\">\n  <thead>\n    <tr style=\"text-align: right;\">\n      <th></th>\n      <th>loan_amnt</th>\n      <th>term</th>\n      <th>int_rate</th>\n      <th>annual_inc</th>\n      <th>loan_status</th>\n      <th>revol_bal</th>\n    </tr>\n  </thead>\n  <tbody>\n    <tr>\n      <th>0</th>\n      <td>10000.0</td>\n      <td>0</td>\n      <td>11.44</td>\n      <td>117000.0</td>\n      <td>1</td>\n      <td>36369.0</td>\n    </tr>\n    <tr>\n      <th>1</th>\n      <td>8000.0</td>\n      <td>0</td>\n      <td>11.99</td>\n      <td>65000.0</td>\n      <td>1</td>\n      <td>20131.0</td>\n    </tr>\n    <tr>\n      <th>2</th>\n      <td>15600.0</td>\n      <td>0</td>\n      <td>10.49</td>\n      <td>43057.0</td>\n      <td>1</td>\n      <td>11987.0</td>\n    </tr>\n    <tr>\n      <th>3</th>\n      <td>7200.0</td>\n      <td>0</td>\n      <td>6.49</td>\n      <td>54000.0</td>\n      <td>1</td>\n      <td>5472.0</td>\n    </tr>\n    <tr>\n      <th>4</th>\n      <td>24375.0</td>\n      <td>1</td>\n      <td>17.27</td>\n      <td>55000.0</td>\n      <td>0</td>\n      <td>24584.0</td>\n    </tr>\n    <tr>\n      <th>...</th>\n      <td>...</td>\n      <td>...</td>\n      <td>...</td>\n      <td>...</td>\n      <td>...</td>\n      <td>...</td>\n    </tr>\n    <tr>\n      <th>360471</th>\n      <td>6000.0</td>\n      <td>0</td>\n      <td>13.11</td>\n      <td>64000.0</td>\n      <td>1</td>\n      <td>11456.0</td>\n    </tr>\n    <tr>\n      <th>360472</th>\n      <td>10000.0</td>\n      <td>1</td>\n      <td>10.99</td>\n      <td>40000.0</td>\n      <td>1</td>\n      <td>1990.0</td>\n    </tr>\n    <tr>\n      <th>360473</th>\n      <td>5000.0</td>\n      <td>0</td>\n      <td>9.99</td>\n      <td>56500.0</td>\n      <td>1</td>\n      <td>32704.0</td>\n    </tr>\n    <tr>\n      <th>360474</th>\n      <td>21000.0</td>\n      <td>1</td>\n      <td>15.31</td>\n      <td>64000.0</td>\n      <td>1</td>\n      <td>15704.0</td>\n    </tr>\n    <tr>\n      <th>360475</th>\n      <td>2000.0</td>\n      <td>0</td>\n      <td>13.61</td>\n      <td>42996.0</td>\n      <td>1</td>\n      <td>4292.0</td>\n    </tr>\n  </tbody>\n</table>\n<p>360467 rows × 6 columns</p>\n</div>"
     },
     "metadata": {},
     "execution_count": 33
    }
   ],
   "source": [
    "df_dum"
   ]
  },
  {
   "cell_type": "code",
   "execution_count": 34,
   "metadata": {},
   "outputs": [],
   "source": [
    "df_dum.to_csv('Clean_Data.csv')"
   ]
  }
 ]
}